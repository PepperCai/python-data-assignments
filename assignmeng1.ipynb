{
 "cells": [
  {
   "cell_type": "code",
   "execution_count": null,
   "metadata": {},
   "outputs": [],
   "source": [
    "from selenium import webdriver\n",
    "import time\n",
    "from bs4 import BeautifulSoup\n",
    "browser = webdriver.Chrome()\n",
    "browser.get('https://search.jd.com/Search?keyword=%E5%8F%A3%E7%BA%A2&enc=utf-8&suggest=2.def.0.V06&wq=kouhonh&pvid=c5e71b804b694a15b4dbed761f185d571')"
   ]
  },
  {
   "cell_type": "code",
   "execution_count": null,
   "metadata": {},
   "outputs": [],
   "source": [
    "def kouhong():\n",
    "    h = browser.find_element_by_css_selector('html')\n",
    "    t = h.get_attribute('innerHTML')\n",
    "    mypage=BeautifulSoup(t,\"html.parser\")\n",
    "    khs=mypage.find_all('div', attrs={'class':\"gl-i-wrap\"})\n",
    "    datas=[]\n",
    "    for one_kh in khs:\n",
    "        data=[]\n",
    "        data.append(one_kh.find('div', attrs={'class':\"p-name p-name-type-2\"}).a.em.text)\n",
    "        data.append(one_kh.find('div', attrs={'class':\"p-price\"}).strong.text)\n",
    "        data.append(one_kh.find('div', attrs={'class':\"p-commit\"}).strong.text)\n",
    "        data.append(one_kh.find('div', attrs={'class':\"p-shop\"}).text.strip())\n",
    "        data.append(one_kh.find('div', attrs={'class':\"p-icons\"}).text)\n",
    "        datas.append(data)\n",
    "    return datas\n",
    "    \n",
    "kouhong()\n",
    "#     data.append(one_kh.find_element_by_class_name('p-price').find_element_by_tag_name('i').text)\n",
    "# #     data.append(one_kh.find_element_by_class_name('J_im_icon').find_element_by_tag_name('a').text)\n",
    "#     data.append(one_kh.find_element_by_class_name('p-commit').find_element_by_tag_name('a').text)\n",
    "#     data.append(one_kh.find_element_by_xpath(\"//div[@class='p-icons']\").find_element_by_tag_name('i').text)\n",
    "#     all_kh.append(data)\n",
    "\n",
    "all_kouhong = []\n",
    "for i in range(0,5):\n",
    "    all_kouhong.extend(kouhong())\n",
    "    next_button = browser.find_element_by_class_name('pn-next')\n",
    "    loc = next_button.location\n",
    "    browser.execute_script(\"window.scrollTo({x}, {y});\".format(**loc)) #scroll to the element\n",
    "    next_button = browser.find_element_by_class_name('pn-next')\n",
    "    next_button.click()\n",
    "    time.sleep(0.5)"
   ]
  },
  {
   "cell_type": "code",
   "execution_count": null,
   "metadata": {},
   "outputs": [],
   "source": [
    "print(all_kouhong)"
   ]
  },
  {
   "cell_type": "code",
   "execution_count": 37,
   "metadata": {},
   "outputs": [
    {
     "ename": "AttributeError",
     "evalue": "'NoneType' object has no attribute 'text'",
     "output_type": "error",
     "traceback": [
      "\u001b[0;31m---------------------------------------------------------------------------\u001b[0m",
      "\u001b[0;31mAttributeError\u001b[0m                            Traceback (most recent call last)",
      "\u001b[0;32m<ipython-input-37-87e6ef22d941>\u001b[0m in \u001b[0;36m<module>\u001b[0;34m()\u001b[0m\n\u001b[1;32m      4\u001b[0m \u001b[0;32mfor\u001b[0m \u001b[0mone_kh\u001b[0m \u001b[0;32min\u001b[0m \u001b[0ml\u001b[0m\u001b[0;34m:\u001b[0m\u001b[0;34m\u001b[0m\u001b[0m\n\u001b[1;32m      5\u001b[0m     \u001b[0mdata\u001b[0m\u001b[0;34m=\u001b[0m\u001b[0;34m[\u001b[0m\u001b[0;34m]\u001b[0m\u001b[0;34m\u001b[0m\u001b[0m\n\u001b[0;32m----> 6\u001b[0;31m     \u001b[0mdata\u001b[0m\u001b[0;34m.\u001b[0m\u001b[0mappend\u001b[0m\u001b[0;34m(\u001b[0m\u001b[0mone_kh\u001b[0m\u001b[0;34m.\u001b[0m\u001b[0mfind\u001b[0m\u001b[0;34m(\u001b[0m\u001b[0;34m'div'\u001b[0m\u001b[0;34m,\u001b[0m \u001b[0mattrs\u001b[0m\u001b[0;34m=\u001b[0m\u001b[0;34m{\u001b[0m\u001b[0;34m'class'\u001b[0m\u001b[0;34m:\u001b[0m\u001b[0;34m\"p-name p-name-type-2\"\u001b[0m\u001b[0;34m}\u001b[0m\u001b[0;34m)\u001b[0m\u001b[0;34m.\u001b[0m\u001b[0mtext\u001b[0m\u001b[0;34m)\u001b[0m\u001b[0;34m\u001b[0m\u001b[0m\n\u001b[0m\u001b[1;32m      7\u001b[0m \u001b[0;31m#     data.append(one_kh.find_element_by_class_name('p-price').find_element_by_tag_name('i').text)\u001b[0m\u001b[0;34m\u001b[0m\u001b[0;34m\u001b[0m\u001b[0m\n\u001b[1;32m      8\u001b[0m \u001b[0;31m# #     data.append(one_kh.find_element_by_class_name('J_im_icon').find_element_by_tag_name('a').text)\u001b[0m\u001b[0;34m\u001b[0m\u001b[0;34m\u001b[0m\u001b[0m\n",
      "\u001b[0;31mAttributeError\u001b[0m: 'NoneType' object has no attribute 'text'"
     ]
    }
   ],
   "source": [
    "mypage=[]\n",
    "khs=browser.find_elements_by_class_name('gl-i-wrap')\n",
    "all_kh=[]\n",
    "for one_kh in l:\n",
    "    data=[]\n",
    "    data.append(one_kh.find('div', attrs={'class':\"p-name p-name-type-2\"})\n",
    "#     data.append(one_kh.find_element_by_class_name('p-price').find_element_by_tag_name('i').text)\n",
    "# #     data.append(one_kh.find_element_by_class_name('J_im_icon').find_element_by_tag_name('a').text)\n",
    "#     data.append(one_kh.find_element_by_class_name('p-commit').find_element_by_tag_name('a').text)\n",
    "#     data.append(one_kh.find_element_by_xpath(\"//div[@class='p-icons']\").find_element_by_tag_name('i').text)\n",
    "#     all_kh.append(data)\n",
    "    print(data)"
   ]
  },
  {
   "cell_type": "code",
   "execution_count": 4,
   "metadata": {
    "scrolled": true
   },
   "outputs": [],
   "source": [
    "def kouhong():\n",
    "    khs=browser.find_elements_by_class_name('gl-i-wrap')\n",
    "    print(khs)\n",
    "#     all_kh=[]\n",
    "#     for one_kh in khs:\n",
    "#         data=[]\n",
    "#         data.append(one_kh.find_element_by_xpath(\"//div[@class='p-name p-name-type-2']\").find_element_by_tag_name('a').find_element_by_tag_name('em').text)\n",
    "#         data.append(one_kh.find_element_by_class_name('p-price').find_element_by_tag_name('i').text)\n",
    "#         data.append(one_kh.find_element_by_class_name('J_im_icon').find_element_by_tag_name('a').text)\n",
    "#         data.append(one_kh.find_element_by_class_name('p-commit').find_element_by_tag_name('a').text)\n",
    "#         data.append(one_kh.find_element_by_xpath(\"//div[@class='p-icons']\").find_element_by_tag_name('i').text)\n",
    "#         all_kh.append(data)\n",
    "#         print(data)\n",
    "#     return all_kh\n",
    "\n",
    "# all_kouhong = []\n",
    "# for i in range(0,5):\n",
    "    a= kouhong()\n",
    "#     print(a)\n",
    "#     all_kouhong.extend(kouhong())\n",
    "#     next_button = browser.find_element_by_class_name('pn-next')\n",
    "#     loc = next_button.location\n",
    "#     browser.execute_script(\"window.scrollTo({x}, {y});\".format(**loc)) #scroll to the element\n",
    "#     next_button = browser.find_element_by_class_name('pn-next')\n",
    "#     next_button.click()"
   ]
  },
  {
   "cell_type": "code",
   "execution_count": 13,
   "metadata": {
    "scrolled": true
   },
   "outputs": [
    {
     "ename": "NameError",
     "evalue": "name 'all_kouhong' is not defined",
     "output_type": "error",
     "traceback": [
      "\u001b[0;31m---------------------------------------------------------------------------\u001b[0m",
      "\u001b[0;31mNameError\u001b[0m                                 Traceback (most recent call last)",
      "\u001b[0;32m<ipython-input-13-60540e65b092>\u001b[0m in \u001b[0;36m<module>\u001b[0;34m()\u001b[0m\n\u001b[1;32m      4\u001b[0m     \u001b[0mwriter\u001b[0m \u001b[0;34m=\u001b[0m \u001b[0mcsv\u001b[0m\u001b[0;34m.\u001b[0m\u001b[0mwriter\u001b[0m\u001b[0;34m(\u001b[0m\u001b[0mfile\u001b[0m\u001b[0;34m)\u001b[0m\u001b[0;34m\u001b[0m\u001b[0m\n\u001b[1;32m      5\u001b[0m     \u001b[0mwriter\u001b[0m\u001b[0;34m.\u001b[0m\u001b[0mwriterow\u001b[0m\u001b[0;34m(\u001b[0m\u001b[0mheader\u001b[0m\u001b[0;34m)\u001b[0m\u001b[0;34m\u001b[0m\u001b[0m\n\u001b[0;32m----> 6\u001b[0;31m     \u001b[0mwriter\u001b[0m\u001b[0;34m.\u001b[0m\u001b[0mwriterows\u001b[0m\u001b[0;34m(\u001b[0m\u001b[0mall_kouhong\u001b[0m\u001b[0;34m)\u001b[0m\u001b[0;34m\u001b[0m\u001b[0m\n\u001b[0m",
      "\u001b[0;31mNameError\u001b[0m: name 'all_kouhong' is not defined"
     ]
    }
   ],
   "source": [
    "header = ['Name','Price','Shop','Comment','Type']\n",
    "import csv\n",
    "with open('kouhong.csv', 'w', newline = '\\n') as file:\n",
    "    writer = csv.writer(file)\n",
    "    writer.writerow(header)\n",
    "    writer.writerows(all_kouhong)"
   ]
  },
  {
   "cell_type": "code",
   "execution_count": 14,
   "metadata": {
    "scrolled": true
   },
   "outputs": [
    {
     "ename": "NameError",
     "evalue": "name 'all_kouhong' is not defined",
     "output_type": "error",
     "traceback": [
      "\u001b[0;31m---------------------------------------------------------------------------\u001b[0m",
      "\u001b[0;31mNameError\u001b[0m                                 Traceback (most recent call last)",
      "\u001b[0;32m<ipython-input-14-147f2b597123>\u001b[0m in \u001b[0;36m<module>\u001b[0;34m()\u001b[0m\n\u001b[0;32m----> 1\u001b[0;31m \u001b[0mall_kouhong\u001b[0m\u001b[0;34m\u001b[0m\u001b[0m\n\u001b[0m",
      "\u001b[0;31mNameError\u001b[0m: name 'all_kouhong' is not defined"
     ]
    }
   ],
   "source": [
    "all_kouhong"
   ]
  },
  {
   "cell_type": "code",
   "execution_count": 48,
   "metadata": {},
   "outputs": [
    {
     "data": {
      "text/plain": [
       "<_io.TextIOWrapper name='dianping.csv' mode='w' encoding='UTF-8'>"
      ]
     },
     "execution_count": 48,
     "metadata": {},
     "output_type": "execute_result"
    }
   ],
   "source": [
    "file"
   ]
  },
  {
   "cell_type": "code",
   "execution_count": 11,
   "metadata": {},
   "outputs": [
    {
     "data": {
      "text/plain": [
       "<selenium.webdriver.chrome.webdriver.WebDriver (session=\"ac7dbdd4355aa5e53d8da84c052cc4ba\")>"
      ]
     },
     "execution_count": 11,
     "metadata": {},
     "output_type": "execute_result"
    }
   ],
   "source": []
  },
  {
   "cell_type": "code",
   "execution_count": null,
   "metadata": {},
   "outputs": [],
   "source": []
  }
 ],
 "metadata": {
  "kernelspec": {
   "display_name": "Python 3",
   "language": "python",
   "name": "python3"
  },
  "language_info": {
   "codemirror_mode": {
    "name": "ipython",
    "version": 3
   },
   "file_extension": ".py",
   "mimetype": "text/x-python",
   "name": "python",
   "nbconvert_exporter": "python",
   "pygments_lexer": "ipython3",
   "version": "3.7.0"
  }
 },
 "nbformat": 4,
 "nbformat_minor": 2
}
