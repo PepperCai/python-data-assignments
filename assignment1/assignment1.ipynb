{
 "cells": [
  {
   "cell_type": "code",
   "execution_count": 2,
   "metadata": {},
   "outputs": [],
   "source": [
    "from selenium import webdriver\n",
    "import time\n",
    "from bs4 import BeautifulSoup\n",
    "browser = webdriver.Chrome()\n",
    "browser.get('https://search.jd.com/Search?keyword=%E5%8F%A3%E7%BA%A2&enc=utf-8&suggest=2.def.0.V06&wq=kouhonh&pvid=c5e71b804b694a15b4dbed761f185d571')"
   ]
  },
  {
   "cell_type": "code",
   "execution_count": 3,
   "metadata": {},
   "outputs": [],
   "source": [
    "def kouhong():\n",
    "    h = browser.find_element_by_css_selector('html')\n",
    "    t = h.get_attribute('innerHTML')\n",
    "    mypage=BeautifulSoup(t,\"html.parser\")\n",
    "    khs=mypage.find_all('div', attrs={'class':\"gl-i-wrap\"})\n",
    "    datas=[]\n",
    "    for one_kh in khs:\n",
    "        data=[]\n",
    "        data.append(one_kh.find('div', attrs={'class':\"p-name p-name-type-2\"}).a.em.text)\n",
    "        data.append(one_kh.find('div', attrs={'class':\"p-price\"}).strong.text)\n",
    "        data.append(one_kh.find('div', attrs={'class':\"p-commit\"}).strong.text)\n",
    "        data.append(one_kh.find('div', attrs={'class':\"p-shop\"}).text.strip())\n",
    "        data.append(one_kh.find('div', attrs={'class':\"p-icons\"}).text)\n",
    "        datas.append(data)\n",
    "    return datas\n",
    "    \n",
    "\n",
    "all_kouhong = []\n",
    "for i in range(0,5):\n",
    "    all_kouhong.extend(kouhong())\n",
    "    next_button = browser.find_element_by_class_name('pn-next')\n",
    "    loc = next_button.location\n",
    "    browser.execute_script(\"window.scrollTo({x}, {y});\".format(**loc)) #scroll to the element\n",
    "    next_button = browser.find_element_by_class_name('pn-next')\n",
    "    next_button.click()\n",
    "    time.sleep(0.5)"
   ]
  },
  {
   "cell_type": "code",
   "execution_count": 4,
   "metadata": {},
   "outputs": [],
   "source": [
    "header = ['Name','Price','Comment','Shop','Icons']\n",
    "import csv\n",
    "with open('assignment1.csv', 'w', newline = '\\n') as file:\n",
    "    writer = csv.writer(file)\n",
    "    writer.writerow(header)\n",
    "    writer.writerows(all_kouhong)"
   ]
  },
  {
   "cell_type": "code",
   "execution_count": null,
   "metadata": {},
   "outputs": [],
   "source": []
  }
 ],
 "metadata": {
  "kernelspec": {
   "display_name": "Python 3",
   "language": "python",
   "name": "python3"
  },
  "language_info": {
   "codemirror_mode": {
    "name": "ipython",
    "version": 3
   },
   "file_extension": ".py",
   "mimetype": "text/x-python",
   "name": "python",
   "nbconvert_exporter": "python",
   "pygments_lexer": "ipython3",
   "version": "3.7.0"
  }
 },
 "nbformat": 4,
 "nbformat_minor": 2
}
